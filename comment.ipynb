{
 "cells": [
  {
   "cell_type": "markdown",
   "id": "d18013c7",
   "metadata": {},
   "source": [
    "Comments can be used to explain Python code.\n",
    "\n",
    "Comments can be used to make the code more readable.\n",
    "\n",
    "Comments can be used to prevent execution when testing code."
   ]
  },
  {
   "cell_type": "code",
   "execution_count": 1,
   "id": "c0b7a6f9",
   "metadata": {},
   "outputs": [],
   "source": [
    "# i am a comment"
   ]
  },
  {
   "cell_type": "code",
   "execution_count": 3,
   "id": "be77dc63",
   "metadata": {},
   "outputs": [],
   "source": [
    "calulation = 50 / 10 - 50 * 2\n",
    "\n",
    "calulation1 = (50 / 10) - 50 * 2\n",
    "\n",
    "calulation2 = 50 / 10 - (50 * 2)\n",
    "\n",
    "calulation3 = (50 / 10 - 50) * 2\n",
    "\n",
    "ts = \"14:45T00:00:00\""
   ]
  },
  {
   "cell_type": "code",
   "execution_count": 4,
   "id": "90a0624b",
   "metadata": {},
   "outputs": [
    {
     "name": "stdout",
     "output_type": "stream",
     "text": [
      "calculation -95.0\n",
      "calculation1 -95.0\n",
      "calculation2 -95.0\n",
      "calculation3 -90.0\n",
      "ts 14:45T00:00:00\n"
     ]
    }
   ],
   "source": [
    "print(\"calculation\",calulation)\n",
    "print(\"calculation1\",calulation1)\n",
    "print(\"calculation2\",calulation2)\n",
    "print(\"calculation3\",calulation3)\n",
    "print(\"ts\",ts)"
   ]
  },
  {
   "cell_type": "code",
   "execution_count": 5,
   "id": "068b13b6",
   "metadata": {},
   "outputs": [],
   "source": [
    "ts = \"14:45T00:00:00\" # this is a timestamp"
   ]
  },
  {
   "cell_type": "code",
   "execution_count": 6,
   "id": "8c03d64c",
   "metadata": {},
   "outputs": [],
   "source": [
    "calulation1 = (50 / 10) - 50 * 2 # calculate 50 / 10 first"
   ]
  },
  {
   "cell_type": "code",
   "execution_count": 7,
   "id": "2b5166a5",
   "metadata": {},
   "outputs": [],
   "source": [
    "time_stamp = 300\n",
    "ts = 300 # this is a timestamp"
   ]
  },
  {
   "cell_type": "code",
   "execution_count": 8,
   "id": "e3f24aa7",
   "metadata": {},
   "outputs": [],
   "source": [
    "rslt = \"90%\" # student result"
   ]
  },
  {
   "cell_type": "code",
   "execution_count": 9,
   "id": "779055d3",
   "metadata": {},
   "outputs": [
    {
     "name": "stdout",
     "output_type": "stream",
     "text": [
      "90%\n"
     ]
    }
   ],
   "source": [
    "print(rslt)"
   ]
  },
  {
   "cell_type": "code",
   "execution_count": null,
   "id": "36493db0",
   "metadata": {},
   "outputs": [],
   "source": []
  }
 ],
 "metadata": {
  "kernelspec": {
   "display_name": "Python 3 (ipykernel)",
   "language": "python",
   "name": "python3"
  },
  "language_info": {
   "codemirror_mode": {
    "name": "ipython",
    "version": 3
   },
   "file_extension": ".py",
   "mimetype": "text/x-python",
   "name": "python",
   "nbconvert_exporter": "python",
   "pygments_lexer": "ipython3",
   "version": "3.9.7"
  }
 },
 "nbformat": 4,
 "nbformat_minor": 5
}
