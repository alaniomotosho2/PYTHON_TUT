{
 "cells": [
  {
   "cell_type": "markdown",
   "id": "59bbbf95",
   "metadata": {},
   "source": [
    "<h2> Python Variable visibility </h2>"
   ]
  },
  {
   "cell_type": "code",
   "execution_count": 1,
   "id": "e861cde3",
   "metadata": {},
   "outputs": [],
   "source": [
    "# Python variable visibility controls the availability of python variable and where and how it can be accessed"
   ]
  },
  {
   "cell_type": "code",
   "execution_count": 4,
   "id": "fb0b3ba3",
   "metadata": {},
   "outputs": [
    {
     "name": "stdout",
     "output_type": "stream",
     "text": [
      "30\n",
      "700\n",
      "30\n"
     ]
    }
   ],
   "source": [
    "age = 30 # any variable not within a function is a Global variable\n",
    "\n",
    "# python function\n",
    "def printAge():\n",
    "    age = 700 # any variable inside a function is called local variable\n",
    "    print(age)\n",
    "\n",
    "\n",
    "## visibility of global vraible is throughout the python code while visibility of local variable is within \n",
    "# the function\n",
    "\n",
    "print(age)\n",
    "printAge() # invoke a function\n",
    "print(age)"
   ]
  },
  {
   "cell_type": "markdown",
   "id": "034debb9",
   "metadata": {},
   "source": [
    "<h4> visibility example </h4>"
   ]
  },
  {
   "cell_type": "code",
   "execution_count": 6,
   "id": "fcf39243",
   "metadata": {},
   "outputs": [
    {
     "name": "stdout",
     "output_type": "stream",
     "text": [
      "Global variable =>  100\n",
      "print_score =>  1\n",
      "Global variable =>  100\n",
      "print_student_score =>  2\n",
      "Global variable =>  100\n",
      "print_last =>  100\n"
     ]
    }
   ],
   "source": [
    "score = 100 # global variable\n",
    "\n",
    "def print_score():\n",
    "    score = 1 # this 'score' shadow global variable 'score' from outside the function\n",
    "    print(\"print_score => \",score)\n",
    "\n",
    "    \n",
    "def print_student_score():\n",
    "    score = 2 # this 'score' shadow global variable 'score' from outside the function\n",
    "    print(\"print_student_score => \",score)\n",
    "\n",
    "def print_last():\n",
    "    # this function use global variable, there is no shadowing here\n",
    "    print(\"print_last => \",score)\n",
    " \n",
    "\n",
    "\n",
    "print(\"Global variable => \",score) # 100\n",
    "print_score() # 1\n",
    "print(\"Global variable => \",score) # 100\n",
    "print_student_score() # 2\n",
    "print(\"Global variable => \",score) # 100\n",
    "print_last()"
   ]
  },
  {
   "cell_type": "code",
   "execution_count": null,
   "id": "c668b5d7",
   "metadata": {},
   "outputs": [],
   "source": []
  }
 ],
 "metadata": {
  "kernelspec": {
   "display_name": "Python 3 (ipykernel)",
   "language": "python",
   "name": "python3"
  },
  "language_info": {
   "codemirror_mode": {
    "name": "ipython",
    "version": 3
   },
   "file_extension": ".py",
   "mimetype": "text/x-python",
   "name": "python",
   "nbconvert_exporter": "python",
   "pygments_lexer": "ipython3",
   "version": "3.9.7"
  }
 },
 "nbformat": 4,
 "nbformat_minor": 5
}
