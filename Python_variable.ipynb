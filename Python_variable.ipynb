{
 "cells": [
  {
   "cell_type": "markdown",
   "id": "cda280e4",
   "metadata": {},
   "source": [
    "<h3> Python Variable </h3>"
   ]
  },
  {
   "cell_type": "markdown",
   "id": "15694549",
   "metadata": {},
   "source": [
    "<h4> Python Vraible </h4> : python variable is use to store data/ information"
   ]
  },
  {
   "cell_type": "code",
   "execution_count": 1,
   "id": "8fa633c4",
   "metadata": {},
   "outputs": [],
   "source": [
    "##########  Creating Variable"
   ]
  },
  {
   "cell_type": "code",
   "execution_count": 2,
   "id": "0766f4a3",
   "metadata": {},
   "outputs": [],
   "source": [
    "x = 30 # x is the variable while '30' is the data"
   ]
  },
  {
   "cell_type": "code",
   "execution_count": 3,
   "id": "26ad04ac",
   "metadata": {},
   "outputs": [],
   "source": [
    "answer = 90  # answer is the variable while '90' is the data"
   ]
  },
  {
   "cell_type": "code",
   "execution_count": 4,
   "id": "812f6333",
   "metadata": {},
   "outputs": [
    {
     "name": "stdout",
     "output_type": "stream",
     "text": [
      "30\n"
     ]
    }
   ],
   "source": [
    "print(\"30\")"
   ]
  },
  {
   "cell_type": "code",
   "execution_count": 5,
   "id": "53ed15a7",
   "metadata": {},
   "outputs": [
    {
     "name": "stdout",
     "output_type": "stream",
     "text": [
      "30\n"
     ]
    }
   ],
   "source": [
    "print(x)"
   ]
  },
  {
   "cell_type": "code",
   "execution_count": 6,
   "id": "c8ee2e5b",
   "metadata": {},
   "outputs": [
    {
     "name": "stdout",
     "output_type": "stream",
     "text": [
      "30\n"
     ]
    }
   ],
   "source": [
    "print(x)"
   ]
  },
  {
   "cell_type": "code",
   "execution_count": 7,
   "id": "11090113",
   "metadata": {},
   "outputs": [
    {
     "name": "stdout",
     "output_type": "stream",
     "text": [
      "31\n"
     ]
    }
   ],
   "source": [
    "print(x + 1) # x is 30 so therefore the answer should be 31"
   ]
  },
  {
   "cell_type": "markdown",
   "id": "aa510d5d",
   "metadata": {},
   "source": [
    "<h3> Variable case sensitivity </h3> this means python variable's case is treated diffrently"
   ]
  },
  {
   "cell_type": "code",
   "execution_count": 8,
   "id": "b0ba3024",
   "metadata": {},
   "outputs": [],
   "source": [
    "x = 70\n",
    "X = 100"
   ]
  },
  {
   "cell_type": "code",
   "execution_count": 9,
   "id": "57d38931",
   "metadata": {},
   "outputs": [
    {
     "name": "stdout",
     "output_type": "stream",
     "text": [
      "70\n"
     ]
    }
   ],
   "source": [
    "print(x)"
   ]
  },
  {
   "cell_type": "code",
   "execution_count": 10,
   "id": "75b11165",
   "metadata": {},
   "outputs": [
    {
     "name": "stdout",
     "output_type": "stream",
     "text": [
      "100\n"
     ]
    }
   ],
   "source": [
    "print(X)"
   ]
  },
  {
   "cell_type": "code",
   "execution_count": 11,
   "id": "0e83aa85",
   "metadata": {},
   "outputs": [],
   "source": [
    "result = 500\n",
    "RESULT = 1000\n",
    "# the above  variables are not the same because python is case sensitive"
   ]
  },
  {
   "cell_type": "code",
   "execution_count": 12,
   "id": "2bbbad21",
   "metadata": {},
   "outputs": [
    {
     "name": "stdout",
     "output_type": "stream",
     "text": [
      "500\n",
      "1000\n"
     ]
    }
   ],
   "source": [
    "print(result)\n",
    "print(RESULT)"
   ]
  },
  {
   "cell_type": "code",
   "execution_count": 14,
   "id": "e3782ce5",
   "metadata": {},
   "outputs": [
    {
     "name": "stdout",
     "output_type": "stream",
     "text": [
      "70\n",
      "x\n",
      "x\n"
     ]
    }
   ],
   "source": [
    "print(x) # 70\n",
    "print(\"x\") # 'x'\n",
    "print('x') # 'x'"
   ]
  },
  {
   "cell_type": "markdown",
   "id": "ea3f7e27",
   "metadata": {},
   "source": [
    "<h1> Python Variable Naming Rules </h1>"
   ]
  },
  {
   "cell_type": "markdown",
   "id": "9bea4606",
   "metadata": {},
   "source": [
    "A variable can have a short name (like x and y) or a more descriptive name (age, carname, total_volume).\n",
    "\n",
    "<p> Rules for Python variables: </p>\n",
    "<p> (1)  A variable name must start with a letter or the underscore character </p>\n",
    "<p> (2) A variable name cannot start with a number </p>\n",
    "<p> (3) A variable name can only contain alpha-numeric characters and underscores (A-z, 0-9, and _ ) </p>\n",
    "<p> (4) Variable names are case-sensitive (age, Age and AGE are three different variables) </p>"
   ]
  },
  {
   "cell_type": "code",
   "execution_count": 16,
   "id": "0e7943d3",
   "metadata": {},
   "outputs": [],
   "source": [
    "x1 = 100 # valid\n",
    "xx = 200 # valid\n",
    "my_age = 23 # valid\n",
    "age = 30 # valid\n"
   ]
  },
  {
   "cell_type": "code",
   "execution_count": 20,
   "id": "38647e9a",
   "metadata": {},
   "outputs": [
    {
     "name": "stdout",
     "output_type": "stream",
     "text": [
      "John\n",
      "Tayo\n"
     ]
    }
   ],
   "source": [
    "# first rule < A variable name must start with a letter or the underscore character >\n",
    "my_name = \"John\"\n",
    "_my_name = \"Tayo\"\n",
    "\n",
    "print(my_name)\n",
    "print(_my_name)\n"
   ]
  },
  {
   "cell_type": "code",
   "execution_count": 21,
   "id": "986398cc",
   "metadata": {},
   "outputs": [
    {
     "ename": "SyntaxError",
     "evalue": "invalid syntax (2917946801.py, line 1)",
     "output_type": "error",
     "traceback": [
      "\u001b[0;36m  File \u001b[0;32m\"/var/folders/3s/qzljkzsj5ssbm25v1qns0qkh0000gn/T/ipykernel_3319/2917946801.py\"\u001b[0;36m, line \u001b[0;32m1\u001b[0m\n\u001b[0;31m    $_invalid_name = \"jj\" # this violate firts rule of variable naming\u001b[0m\n\u001b[0m    ^\u001b[0m\n\u001b[0;31mSyntaxError\u001b[0m\u001b[0;31m:\u001b[0m invalid syntax\n"
     ]
    }
   ],
   "source": [
    "$_invalid_name = \"jj\" # this violate firts rule of variable naming"
   ]
  },
  {
   "cell_type": "code",
   "execution_count": 22,
   "id": "8c3c1343",
   "metadata": {},
   "outputs": [],
   "source": [
    "# to fix above syntax error: remove the dollar characater\n",
    "_invalid_name = \"jj\"\n"
   ]
  },
  {
   "cell_type": "code",
   "execution_count": 23,
   "id": "17d0b2ad",
   "metadata": {},
   "outputs": [
    {
     "ename": "SyntaxError",
     "evalue": "invalid syntax (4149800433.py, line 3)",
     "output_type": "error",
     "traceback": [
      "\u001b[0;36m  File \u001b[0;32m\"/var/folders/3s/qzljkzsj5ssbm25v1qns0qkh0000gn/T/ipykernel_3319/4149800433.py\"\u001b[0;36m, line \u001b[0;32m3\u001b[0m\n\u001b[0;31m    11x = 20\u001b[0m\n\u001b[0m      ^\u001b[0m\n\u001b[0;31mSyntaxError\u001b[0m\u001b[0;31m:\u001b[0m invalid syntax\n"
     ]
    }
   ],
   "source": [
    "###################   A variable name cannot start with a number #########################\n",
    "x11 = 200 # this is  valid\n",
    "11x = 20 # this is not valid"
   ]
  },
  {
   "cell_type": "code",
   "execution_count": 24,
   "id": "ce528fa8",
   "metadata": {},
   "outputs": [
    {
     "ename": "SyntaxError",
     "evalue": "invalid syntax (2676119208.py, line 2)",
     "output_type": "error",
     "traceback": [
      "\u001b[0;36m  File \u001b[0;32m\"/var/folders/3s/qzljkzsj5ssbm25v1qns0qkh0000gn/T/ipykernel_3319/2676119208.py\"\u001b[0;36m, line \u001b[0;32m2\u001b[0m\n\u001b[0;31m    my$age = 23 # invalid\u001b[0m\n\u001b[0m      ^\u001b[0m\n\u001b[0;31mSyntaxError\u001b[0m\u001b[0;31m:\u001b[0m invalid syntax\n"
     ]
    }
   ],
   "source": [
    "####################### A variable name can only contain alpha-numeric characters and underscores (A-z, 0-9, and _ )##\n",
    "my$age = 23 # invalid\n",
    "my#age = 23 # invalid\n",
    "my+age = 200 # not valid"
   ]
  },
  {
   "cell_type": "code",
   "execution_count": 25,
   "id": "6046465f",
   "metadata": {},
   "outputs": [],
   "source": [
    "####### Variable names are case-sensitive (age, Age and AGE are three different variables) #########\n",
    "\n",
    "age = 20\n",
    "Age = 30\n",
    "AGe = 40\n",
    "AGE = 50\n",
    "## all the above variables are diffrent because python is CASE SENSITIVE"
   ]
  },
  {
   "cell_type": "markdown",
   "id": "f4a6e556",
   "metadata": {},
   "source": [
    "<h2> Multi Words Variable Names </h2>"
   ]
  },
  {
   "cell_type": "code",
   "execution_count": 28,
   "id": "93bf6772",
   "metadata": {},
   "outputs": [
    {
     "name": "stdout",
     "output_type": "stream",
     "text": [
      "Nigeria population is  200 millions\n"
     ]
    }
   ],
   "source": [
    "# sometime variable names can have more than one words\n",
    "# example is studentPopulation\n",
    "# NAMING MULTI WORDS VAFRIABLE : COMMON CONVENTION ARE BELOW\n",
    "\n",
    "# (1) Camel Case: studentPopulation, myResult, nigeriaPresidentName  : hint( start with lower case then subsequent\n",
    "# word should begin with upper case) \n",
    "\n",
    "#(2) Snake Case: student_population, my_result, nigeria_president_name  : hint ( separate each word with underscore)\n",
    "\n",
    "\n",
    "\n",
    "nigeria_population = \"200 millions\"\n",
    "\n",
    "print(\"Nigeria population is \",nigeria_population)"
   ]
  },
  {
   "cell_type": "markdown",
   "id": "551133c5",
   "metadata": {},
   "source": [
    "<h2> Variable Assignment </h2>"
   ]
  },
  {
   "cell_type": "code",
   "execution_count": 31,
   "id": "51ddaa54",
   "metadata": {},
   "outputs": [
    {
     "name": "stdout",
     "output_type": "stream",
     "text": [
      "Name is  John\n",
      "age is  23\n",
      "country is  Nigeria\n",
      "Name1 is  john\n",
      "age1 is  23\n",
      "country1 is  Nigeria\n"
     ]
    }
   ],
   "source": [
    "# Variable assignment means putting value into variable e.g\n",
    "\n",
    "x = 300 # it means assign 300 to x\n",
    "\n",
    "# we can have multiple assignment as well e.g\n",
    "\n",
    "name,age,country = \"John\",23,\"Nigeria\" \n",
    "\n",
    "print(\"Name is \",name)\n",
    "print(\"age is \",age)\n",
    "print(\"country is \",country)\n",
    "\n",
    "# the above can also be written in 3 lines\n",
    "\n",
    "name1 = \"john\"\n",
    "age1 = 23\n",
    "country1 = \"Nigeria\"\n",
    "\n",
    "print(\"Name1 is \",name1)\n",
    "print(\"age1 is \",age1)\n",
    "print(\"country1 is \",country1)"
   ]
  },
  {
   "cell_type": "code",
   "execution_count": null,
   "id": "46a84eda",
   "metadata": {},
   "outputs": [],
   "source": []
  }
 ],
 "metadata": {
  "kernelspec": {
   "display_name": "Python 3 (ipykernel)",
   "language": "python",
   "name": "python3"
  },
  "language_info": {
   "codemirror_mode": {
    "name": "ipython",
    "version": 3
   },
   "file_extension": ".py",
   "mimetype": "text/x-python",
   "name": "python",
   "nbconvert_exporter": "python",
   "pygments_lexer": "ipython3",
   "version": "3.9.7"
  }
 },
 "nbformat": 4,
 "nbformat_minor": 5
}
