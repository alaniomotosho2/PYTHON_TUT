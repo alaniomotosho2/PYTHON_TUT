{
 "cells": [
  {
   "cell_type": "markdown",
   "id": "acdb18a8",
   "metadata": {},
   "source": [
    "<h1> Python Data type </h1>"
   ]
  },
  {
   "cell_type": "code",
   "execution_count": 4,
   "id": "54aea7f6",
   "metadata": {},
   "outputs": [],
   "source": [
    "# python data type allow us to know what kind of operation that can be performed on the data or  variable"
   ]
  },
  {
   "cell_type": "code",
   "execution_count": 5,
   "id": "c49f1f5a",
   "metadata": {},
   "outputs": [],
   "source": [
    "x = 50\n",
    "name = \"john\""
   ]
  },
  {
   "cell_type": "code",
   "execution_count": 6,
   "id": "c95f9859",
   "metadata": {},
   "outputs": [
    {
     "data": {
      "text/plain": [
       "51"
      ]
     },
     "execution_count": 6,
     "metadata": {},
     "output_type": "execute_result"
    }
   ],
   "source": [
    "x + 1"
   ]
  },
  {
   "cell_type": "code",
   "execution_count": 7,
   "id": "6dbca49c",
   "metadata": {},
   "outputs": [
    {
     "data": {
      "text/plain": [
       "-40"
      ]
     },
     "execution_count": 7,
     "metadata": {},
     "output_type": "execute_result"
    }
   ],
   "source": [
    "x -90"
   ]
  },
  {
   "cell_type": "code",
   "execution_count": 9,
   "id": "eaa14654",
   "metadata": {},
   "outputs": [
    {
     "ename": "TypeError",
     "evalue": "unsupported operand type(s) for -: 'str' and 'int'",
     "output_type": "error",
     "traceback": [
      "\u001b[0;31m---------------------------------------------------------------------------\u001b[0m",
      "\u001b[0;31mTypeError\u001b[0m                                 Traceback (most recent call last)",
      "\u001b[0;32m/var/folders/3s/qzljkzsj5ssbm25v1qns0qkh0000gn/T/ipykernel_45602/2771085989.py\u001b[0m in \u001b[0;36m<module>\u001b[0;34m\u001b[0m\n\u001b[0;32m----> 1\u001b[0;31m \u001b[0mname\u001b[0m \u001b[0;34m-\u001b[0m \u001b[0;36m30\u001b[0m\u001b[0;34m\u001b[0m\u001b[0;34m\u001b[0m\u001b[0m\n\u001b[0m",
      "\u001b[0;31mTypeError\u001b[0m: unsupported operand type(s) for -: 'str' and 'int'"
     ]
    }
   ],
   "source": [
    "name - 30"
   ]
  },
  {
   "cell_type": "code",
   "execution_count": 10,
   "id": "c03eb959",
   "metadata": {},
   "outputs": [],
   "source": [
    "########################### DATA TYPE ######################"
   ]
  },
  {
   "cell_type": "markdown",
   "id": "50c16290",
   "metadata": {},
   "source": [
    "<h4> (1) STRING </h4>"
   ]
  },
  {
   "cell_type": "code",
   "execution_count": 11,
   "id": "975e4d4e",
   "metadata": {},
   "outputs": [],
   "source": [
    "# String: a sequence of charcater"
   ]
  },
  {
   "cell_type": "code",
   "execution_count": 15,
   "id": "ca3b4fd1",
   "metadata": {},
   "outputs": [],
   "source": [
    "# example\n",
    "\n",
    "name = \"john\" # string\n",
    "age = '20' # string \n",
    "country = r\"NIgeria\" # raw string\n",
    "state = \"\"\" Lagos\"\"\" # string\n"
   ]
  },
  {
   "cell_type": "code",
   "execution_count": 16,
   "id": "a95eeda3",
   "metadata": {},
   "outputs": [],
   "source": [
    "# string can be in a double or single quote\n",
    "x1 = \"my name\" # double quote\n",
    "x2 = 'his name' # single quote"
   ]
  },
  {
   "cell_type": "code",
   "execution_count": 17,
   "id": "a300c0e1",
   "metadata": {},
   "outputs": [],
   "source": [
    "# string can be raw string and can also use triple quote\n",
    "\n",
    "x3 = R\"your name\"\n",
    "x4 = r'his name'\n",
    "x5 = \"\"\" our name \"\"\""
   ]
  },
  {
   "cell_type": "code",
   "execution_count": 18,
   "id": "1f2f8969",
   "metadata": {},
   "outputs": [],
   "source": [
    "# the most common representation is single and double quote"
   ]
  },
  {
   "cell_type": "code",
   "execution_count": null,
   "id": "f7c5ca17",
   "metadata": {},
   "outputs": [],
   "source": []
  }
 ],
 "metadata": {
  "kernelspec": {
   "display_name": "Python 3 (ipykernel)",
   "language": "python",
   "name": "python3"
  },
  "language_info": {
   "codemirror_mode": {
    "name": "ipython",
    "version": 3
   },
   "file_extension": ".py",
   "mimetype": "text/x-python",
   "name": "python",
   "nbconvert_exporter": "python",
   "pygments_lexer": "ipython3",
   "version": "3.9.7"
  }
 },
 "nbformat": 4,
 "nbformat_minor": 5
}
