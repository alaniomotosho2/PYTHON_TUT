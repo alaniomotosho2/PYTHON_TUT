{
 "cells": [
  {
   "cell_type": "code",
   "execution_count": 2,
   "id": "2665e3b5",
   "metadata": {},
   "outputs": [
    {
     "name": "stdout",
     "output_type": "stream",
     "text": [
      "hell\n"
     ]
    }
   ],
   "source": [
    "# (1) print (\"hello\"\n",
    "print(\"hell\")"
   ]
  },
  {
   "cell_type": "code",
   "execution_count": 3,
   "id": "c09514d8",
   "metadata": {},
   "outputs": [
    {
     "ename": "ValueError",
     "evalue": "too many values to unpack (expected 2)",
     "output_type": "error",
     "traceback": [
      "\u001b[0;31m---------------------------------------------------------------------------\u001b[0m",
      "\u001b[0;31mValueError\u001b[0m                                Traceback (most recent call last)",
      "\u001b[0;32m/var/folders/3s/qzljkzsj5ssbm25v1qns0qkh0000gn/T/ipykernel_6118/3580836121.py\u001b[0m in \u001b[0;36m<module>\u001b[0;34m\u001b[0m\n\u001b[1;32m      1\u001b[0m \u001b[0;31m# (2) x,y = 40,50,60\u001b[0m\u001b[0;34m\u001b[0m\u001b[0;34m\u001b[0m\u001b[0m\n\u001b[1;32m      2\u001b[0m \u001b[0;34m\u001b[0m\u001b[0m\n\u001b[0;32m----> 3\u001b[0;31m \u001b[0mx\u001b[0m\u001b[0;34m,\u001b[0m\u001b[0my\u001b[0m \u001b[0;34m=\u001b[0m \u001b[0;36m40\u001b[0m\u001b[0;34m,\u001b[0m\u001b[0;36m50\u001b[0m\u001b[0;34m,\u001b[0m\u001b[0;36m60\u001b[0m\u001b[0;34m\u001b[0m\u001b[0;34m\u001b[0m\u001b[0m\n\u001b[0m",
      "\u001b[0;31mValueError\u001b[0m: too many values to unpack (expected 2)"
     ]
    }
   ],
   "source": [
    "# (2) x,y = 40,50,60\n",
    "\n",
    "x,y = 40,50,60"
   ]
  },
  {
   "cell_type": "code",
   "execution_count": 4,
   "id": "62dd1e1c",
   "metadata": {},
   "outputs": [],
   "source": [
    "x,y,z = 40,50,60"
   ]
  },
  {
   "cell_type": "code",
   "execution_count": 5,
   "id": "36c7f819",
   "metadata": {},
   "outputs": [
    {
     "ename": "SyntaxError",
     "evalue": "cannot assign to literal (625499347.py, line 2)",
     "output_type": "error",
     "traceback": [
      "\u001b[0;36m  File \u001b[0;32m\"/var/folders/3s/qzljkzsj5ssbm25v1qns0qkh0000gn/T/ipykernel_6118/625499347.py\"\u001b[0;36m, line \u001b[0;32m2\u001b[0m\n\u001b[0;31m    40,50,60 = x,y,x\u001b[0m\n\u001b[0m    ^\u001b[0m\n\u001b[0;31mSyntaxError\u001b[0m\u001b[0;31m:\u001b[0m cannot assign to literal\n"
     ]
    }
   ],
   "source": [
    "# (3) 40,50,60 = x,y,x\n",
    "40,50,60 = x,y,x"
   ]
  },
  {
   "cell_type": "code",
   "execution_count": 6,
   "id": "db0b158a",
   "metadata": {},
   "outputs": [],
   "source": [
    "x,y,x =  40,50,60"
   ]
  },
  {
   "cell_type": "code",
   "execution_count": 7,
   "id": "552a47b6",
   "metadata": {},
   "outputs": [
    {
     "name": "stdout",
     "output_type": "stream",
     "text": [
      "60\n"
     ]
    }
   ],
   "source": [
    "print(x)"
   ]
  },
  {
   "cell_type": "code",
   "execution_count": 8,
   "id": "030e9522",
   "metadata": {},
   "outputs": [
    {
     "name": "stdout",
     "output_type": "stream",
     "text": [
      "x is  60\n",
      "y is  50\n"
     ]
    }
   ],
   "source": [
    "x = 40\n",
    "y = 50\n",
    "x = 60\n",
    "print(\"x is \",x)\n",
    "print(\"y is \",y)"
   ]
  },
  {
   "cell_type": "code",
   "execution_count": 9,
   "id": "eaf90e68",
   "metadata": {},
   "outputs": [
    {
     "ename": "NameError",
     "evalue": "name 'xx' is not defined",
     "output_type": "error",
     "traceback": [
      "\u001b[0;31m---------------------------------------------------------------------------\u001b[0m",
      "\u001b[0;31mNameError\u001b[0m                                 Traceback (most recent call last)",
      "\u001b[0;32m/var/folders/3s/qzljkzsj5ssbm25v1qns0qkh0000gn/T/ipykernel_6118/2845264504.py\u001b[0m in \u001b[0;36m<module>\u001b[0;34m\u001b[0m\n\u001b[1;32m      1\u001b[0m \u001b[0;31m# (4)  50 * xx\u001b[0m\u001b[0;34m\u001b[0m\u001b[0;34m\u001b[0m\u001b[0m\n\u001b[1;32m      2\u001b[0m \u001b[0;34m\u001b[0m\u001b[0m\n\u001b[0;32m----> 3\u001b[0;31m \u001b[0mprint\u001b[0m\u001b[0;34m(\u001b[0m \u001b[0;36m50\u001b[0m \u001b[0;34m*\u001b[0m \u001b[0mxx\u001b[0m\u001b[0;34m)\u001b[0m\u001b[0;34m\u001b[0m\u001b[0;34m\u001b[0m\u001b[0m\n\u001b[0m",
      "\u001b[0;31mNameError\u001b[0m: name 'xx' is not defined"
     ]
    }
   ],
   "source": [
    "# (4)  50 * xx\n",
    "\n",
    "print( 50 * xx)"
   ]
  },
  {
   "cell_type": "markdown",
   "id": "041a0783",
   "metadata": {},
   "source": [
    "<h5> HINT: variable must be defined before we can use it </h5>"
   ]
  },
  {
   "cell_type": "code",
   "execution_count": 10,
   "id": "f14f7e24",
   "metadata": {},
   "outputs": [
    {
     "name": "stdout",
     "output_type": "stream",
     "text": [
      "200\n"
     ]
    }
   ],
   "source": [
    "xx = 4\n",
    "print( 50 * xx)"
   ]
  },
  {
   "cell_type": "code",
   "execution_count": 13,
   "id": "43e6c53e",
   "metadata": {},
   "outputs": [],
   "source": [
    "# (5) p+p = 90\n",
    "\n",
    "p = 70\n",
    "p_p = 90"
   ]
  },
  {
   "cell_type": "code",
   "execution_count": 14,
   "id": "2618dcf3",
   "metadata": {},
   "outputs": [
    {
     "data": {
      "text/plain": [
       "140"
      ]
     },
     "execution_count": 14,
     "metadata": {},
     "output_type": "execute_result"
    }
   ],
   "source": [
    "p * 2"
   ]
  },
  {
   "cell_type": "code",
   "execution_count": 17,
   "id": "f4705249",
   "metadata": {},
   "outputs": [],
   "source": [
    "# (5) a,b = 1,2 AND a,b = 1,2\n",
    "\n",
    "a,b = 1,2\n",
    "(a,b)  = 1,2"
   ]
  },
  {
   "cell_type": "code",
   "execution_count": 18,
   "id": "9e4c1383",
   "metadata": {},
   "outputs": [
    {
     "data": {
      "text/plain": [
       "1"
      ]
     },
     "execution_count": 18,
     "metadata": {},
     "output_type": "execute_result"
    }
   ],
   "source": [
    "a"
   ]
  },
  {
   "cell_type": "code",
   "execution_count": 19,
   "id": "b7c4c64d",
   "metadata": {},
   "outputs": [
    {
     "data": {
      "text/plain": [
       "2"
      ]
     },
     "execution_count": 19,
     "metadata": {},
     "output_type": "execute_result"
    }
   ],
   "source": [
    "b"
   ]
  },
  {
   "cell_type": "code",
   "execution_count": 20,
   "id": "31c973a8",
   "metadata": {},
   "outputs": [],
   "source": [
    "a1 = (1,2,7)"
   ]
  },
  {
   "cell_type": "code",
   "execution_count": 21,
   "id": "71f61a8c",
   "metadata": {},
   "outputs": [
    {
     "data": {
      "text/plain": [
       "tuple"
      ]
     },
     "execution_count": 21,
     "metadata": {},
     "output_type": "execute_result"
    }
   ],
   "source": [
    "type(a1)"
   ]
  },
  {
   "cell_type": "code",
   "execution_count": 22,
   "id": "056f9086",
   "metadata": {},
   "outputs": [
    {
     "ename": "ZeroDivisionError",
     "evalue": "division by zero",
     "output_type": "error",
     "traceback": [
      "\u001b[0;31m---------------------------------------------------------------------------\u001b[0m",
      "\u001b[0;31mZeroDivisionError\u001b[0m                         Traceback (most recent call last)",
      "\u001b[0;32m/var/folders/3s/qzljkzsj5ssbm25v1qns0qkh0000gn/T/ipykernel_6118/3709767079.py\u001b[0m in \u001b[0;36m<module>\u001b[0;34m\u001b[0m\n\u001b[1;32m      1\u001b[0m \u001b[0;31m# (6)  7/0\u001b[0m\u001b[0;34m\u001b[0m\u001b[0;34m\u001b[0m\u001b[0m\n\u001b[0;32m----> 2\u001b[0;31m \u001b[0;36m7\u001b[0m\u001b[0;34m/\u001b[0m\u001b[0;36m0\u001b[0m\u001b[0;34m\u001b[0m\u001b[0;34m\u001b[0m\u001b[0m\n\u001b[0m",
      "\u001b[0;31mZeroDivisionError\u001b[0m: division by zero"
     ]
    }
   ],
   "source": [
    "# (6)  7/0\n",
    "7/0"
   ]
  },
  {
   "cell_type": "code",
   "execution_count": 23,
   "id": "7a158fe7",
   "metadata": {},
   "outputs": [],
   "source": [
    "my_name = \"john\" # prefer convention\n",
    "myName = \"john\"\n",
    "\n",
    "# first one is more popular"
   ]
  },
  {
   "cell_type": "code",
   "execution_count": null,
   "id": "956c5606",
   "metadata": {},
   "outputs": [],
   "source": []
  }
 ],
 "metadata": {
  "kernelspec": {
   "display_name": "Python 3 (ipykernel)",
   "language": "python",
   "name": "python3"
  },
  "language_info": {
   "codemirror_mode": {
    "name": "ipython",
    "version": 3
   },
   "file_extension": ".py",
   "mimetype": "text/x-python",
   "name": "python",
   "nbconvert_exporter": "python",
   "pygments_lexer": "ipython3",
   "version": "3.9.7"
  }
 },
 "nbformat": 4,
 "nbformat_minor": 5
}
